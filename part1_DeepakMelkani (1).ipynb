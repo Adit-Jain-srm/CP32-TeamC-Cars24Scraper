{
  "nbformat": 4,
  "nbformat_minor": 0,
  "metadata": {
    "colab": {
      "provenance": []
    },
    "kernelspec": {
      "name": "python3",
      "display_name": "Python 3"
    },
    "language_info": {
      "name": "python"
    }
  },
  "cells": [
    {
      "cell_type": "markdown",
      "source": [
        "\n",
        "# Part 1: Setup and Initialization\n",
        "# Team A Responsibilities:\n",
        "# 1. Import all necessary libraries\n",
        "# 2. Set up project structure in Jupyter notebook\n",
        "# 3. Create a clean HTTP request-response framework\n"
      ],
      "metadata": {
        "id": "rDqzP3bXktcd"
      }
    },
    {
      "cell_type": "code",
      "execution_count": 7,
      "metadata": {
        "colab": {
          "base_uri": "https://localhost:8080/"
        },
        "id": "gIGYJrDZkpc4",
        "outputId": "7409bee0-544d-4221-f3a1-09998608eb66"
      },
      "outputs": [
        {
          "output_type": "stream",
          "name": "stdout",
          "text": [
            " Package Versions:\n",
            "requests: 2.32.4\n",
            "beautifulsoup4 (bs4): 4.13.5\n",
            "pandas: 2.2.2\n",
            "Python: 3.12.12 (main, Oct 10 2025, 08:52:57) [GCC 11.4.0]\n"
          ]
        }
      ],
      "source": [
        "# --- Imports ---\n",
        "import sys\n",
        "import requests\n",
        "import pandas as pd\n",
        "import bs4\n",
        "from bs4 import BeautifulSoup\n",
        "import urllib.robotparser as robotparser\n",
        "\n",
        "# --- Print Package Versions for Reproducibility ---\n",
        "print(\" Package Versions:\")\n",
        "print(f\"requests: {requests.__version__}\")\n",
        "print(f\"beautifulsoup4 (bs4): {bs4.__version__ if hasattr(bs4, '__version__') else 'N/A'}\")\n",
        "print(f\"pandas: {pd.__version__}\")\n",
        "print(f\"Python: {sys.version}\")"
      ]
    },
    {
      "cell_type": "code",
      "source": [
        "# Step 1: Check robots.txt to ensure scraping compliance\n",
        "# -------------------------------------------------------------\n",
        "print(\"\\n Checking robots.txt...\")\n",
        "\n",
        "robots_url = \"https://www.cars24.com/robots.txt\"\n",
        "rp = robotparser.RobotFileParser()\n",
        "rp.set_url(robots_url)\n",
        "try:\n",
        "    rp.read()\n",
        "    target_url = \"https://www.cars24.com/buy-used-hyundai-cars-mumbai/\"\n",
        "    can_fetch = rp.can_fetch(\"*\", target_url)\n",
        "    print(f\"robots.txt found: \\nAllowed to scrape {target_url}? {'Yes' if can_fetch else 'No'}\")\n",
        "except Exception as e:\n",
        "    print(\" Unable to read robots.txt:\", e)"
      ],
      "metadata": {
        "colab": {
          "base_uri": "https://localhost:8080/"
        },
        "id": "hhymFCnGlHtH",
        "outputId": "968e70a9-6f05-48ea-9403-e359c6003102"
      },
      "execution_count": 8,
      "outputs": [
        {
          "output_type": "stream",
          "name": "stdout",
          "text": [
            "\n",
            " Checking robots.txt...\n",
            "robots.txt found: \n",
            "Allowed to scrape https://www.cars24.com/buy-used-hyundai-cars-mumbai/? No\n"
          ]
        }
      ]
    },
    {
      "cell_type": "code",
      "source": [
        "# -------------------------------------------------------------\n",
        "# 🌐 Step 2: HTTP Connectivity and Page Validation\n",
        "# -------------------------------------------------------------\n",
        "print(\"\\nTesting HTTP Connection...\")\n",
        "\n",
        "url = \"https://www.cars24.com/buy-used-hyundai-cars-mumbai/\"\n",
        "headers = {\n",
        "    \"User-Agent\": \"Mozilla/5.0 (Windows NT 10.0; Win64; x64) \"\n",
        "                  \"AppleWebKit/537.36 (KHTML, like Gecko) \"\n",
        "                  \"Chrome/120.0.0.0 Safari/537.36\"\n",
        "}\n",
        "\n",
        "try:\n",
        "    # Use a session for more reliable connection handling\n",
        "    with requests.Session() as session:\n",
        "        response = session.get(url, headers=headers, timeout=10)\n",
        "        response.raise_for_status()  # Explicitly raise for HTTP errors\n",
        "        print(f\" Connection successful (Status {response.status_code})\")\n",
        "\n",
        "        # Basic structure validation\n",
        "        soup = BeautifulSoup(response.text, \"html.parser\")\n",
        "        title_text = soup.title.string.strip() if soup.title else \"N/A\"\n",
        "        print(f\" Page title: {title_text}\")\n",
        "\n",
        "        # Validate expected structure (example selector)\n",
        "        sample_element = soup.select_one(\"div\")\n",
        "        assert sample_element is not None, \"Expected content structure missing!\"\n",
        "        print(\"Basic page structure looks valid.\")\n",
        "except requests.exceptions.Timeout:\n",
        "    print(\" Connection timed out. Try again later.\")\n",
        "except requests.exceptions.RequestException as e:\n",
        "    print(f\" HTTP request failed: {e}\")\n",
        "except AssertionError as e:\n",
        "    print(f\" Structure validation failed: {e}\")\n",
        "except Exception as e:\n",
        "    print(f\" Unexpected error: {e}\")\n",
        "\n",
        "print(\"\\n🟢 Environment and connection checks complete. Proceed to Part 2.\")"
      ],
      "metadata": {
        "colab": {
          "base_uri": "https://localhost:8080/"
        },
        "id": "C6rvuWEClfS7",
        "outputId": "95779b4d-fd03-4f9f-84f1-a9c8ca930c13"
      },
      "execution_count": 9,
      "outputs": [
        {
          "output_type": "stream",
          "name": "stdout",
          "text": [
            "\n",
            "Testing HTTP Connection...\n",
            " Connection successful (Status 200)\n",
            " Page title: 436 Hyundai Used Cars in Mumbai | Second Hand Hyundai Cars in Mumbai starting from ₹0.89 lakh - CARS24\n",
            "Basic page structure looks valid.\n",
            "\n",
            "🟢 Environment and connection checks complete. Proceed to Part 2.\n"
          ]
        }
      ]
    }
  ]
}