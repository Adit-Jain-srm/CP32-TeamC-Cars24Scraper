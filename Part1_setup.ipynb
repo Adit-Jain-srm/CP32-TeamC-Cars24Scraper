{
 "cells": [
  {
   "cell_type": "markdown",
   "id": "9724483f",
   "metadata": {},
   "source": [
    "Part 1: Setup and Initialization\n",
    "\n",
    "This section focuses on setting up the web scraping environment and initializing the project. It involves:\n",
    "\n",
    "~Importing the necessary libraries required for data extraction and analysis.\n",
    "\n",
    "~Creating the project structure within a Jupyter Notebook (.ipynb) for better organization and reproducibility.\n",
    "\n",
    "~Sending a test HTTP request to the Cars24 website to verify connectivity and ensure that the website can be accessed successfully.\n",
    "\n",
    "This initial step is crucial as it ensures that the team members can proceed seamlessly and establish a strong foundation helping maintain efficiency, consistency, and smooth integration throughout the entire project workflow."
   ]
  },
  {
   "cell_type": "code",
   "execution_count": 1,
   "id": "56963ba6",
   "metadata": {},
   "outputs": [
    {
     "name": "stdout",
     "output_type": "stream",
     "text": [
      "Dependency installation cell ready (commented for safety)\n"
     ]
    }
   ],
   "source": [
    "# Step 0: Dependency Installation (Optional - for new environments)\n",
    "# Uncomment and run the following lines if you need to install dependencies in a new kernel\n",
    "# !pip install requests beautifulsoup4 pandas\n",
    "\n",
    "# Note: For production environments, create a requirements.txt file with:\n",
    "# requests>=2.25.0\n",
    "# beautifulsoup4>=4.9.0\n",
    "# pandas>=1.3.0\n",
    "\n",
    "# Then install with: pip install -r requirements.txt\n",
    "\n",
    "print(\"Dependency installation cell ready (commented for safety)\")"
   ]
  },
  {
   "cell_type": "code",
   "execution_count": 2,
   "id": "ecf5a281",
   "metadata": {},
   "outputs": [
    {
     "name": "stdout",
     "output_type": "stream",
     "text": [
      "=== Package Versions ===\n",
      "requests: 2.32.5\n",
      "beautifulsoup4: 4.14.2\n",
      "pandas: 2.3.3\n",
      "Python: 3.10.11 (tags/v3.10.11:7d4cc5a, Apr  5 2023, 00:38:17) [MSC v.1929 64 bit (AMD64)]\n",
      "\n",
      "Libraries imported successfully!\n"
     ]
    }
   ],
   "source": [
    "# Step 1: Importing Required Libraries and Checking Versions\n",
    "\n",
    "import requests                      # For sending HTTP requests\n",
    "from bs4 import BeautifulSoup         # For parsing HTML content\n",
    "import pandas as pd                   # For data manipulation and analysis\n",
    "import os                             # For creating project structure\n",
    "import sys                            # For system information\n",
    "import urllib.robotparser             # For robots.txt checking\n",
    "\n",
    "# Print package versions for reproducibility\n",
    "print(\"=== Package Versions ===\")\n",
    "print(f\"requests: {requests.__version__}\")\n",
    "try:\n",
    "    import bs4\n",
    "    print(f\"beautifulsoup4: {bs4.__version__}\")\n",
    "except AttributeError:\n",
    "    print(\"beautifulsoup4: Version not available\")\n",
    "print(f\"pandas: {pd.__version__}\")\n",
    "print(f\"Python: {sys.version}\")\n",
    "print(\"\\nLibraries imported successfully!\")"
   ]
  },
  {
   "cell_type": "code",
   "execution_count": 3,
   "id": "b25be515",
   "metadata": {},
   "outputs": [
    {
     "name": "stdout",
     "output_type": "stream",
     "text": [
      "=== Robots.txt Analysis ===\n",
      "Checking robots.txt for: https://www.cars24.com\n",
      "Can fetch main page: False\n",
      "Can access /buy-used-hyundai-cars-mumbai/: False\n",
      "Can access /buy-used-cars/: False\n",
      "No specific crawl delay specified\n"
     ]
    }
   ],
   "source": [
    "# Step 2: Robots.txt Compliance Check\n",
    "# Demonstrating awareness of scraping rules and ethical guidelines\n",
    "\n",
    "def check_robots_txt(base_url):\n",
    "    \"\"\"Check robots.txt for scraping permissions\"\"\"\n",
    "    try:\n",
    "        rp = urllib.robotparser.RobotFileParser()\n",
    "        rp.set_url(f\"{base_url}/robots.txt\")\n",
    "        rp.read()\n",
    "        \n",
    "        print(\"=== Robots.txt Analysis ===\")\n",
    "        print(f\"Checking robots.txt for: {base_url}\")\n",
    "        \n",
    "        # Check if we can access the main page\n",
    "        can_fetch = rp.can_fetch(\"*\", \"/\")\n",
    "        print(f\"Can fetch main page: {can_fetch}\")\n",
    "        \n",
    "        # Check specific paths we might need\n",
    "        search_paths = [\"/buy-used-hyundai-cars-mumbai/\", \"/buy-used-cars/\"]\n",
    "        for path in search_paths:\n",
    "            can_access = rp.can_fetch(\"*\", path)\n",
    "            print(f\"Can access {path}: {can_access}\")\n",
    "        \n",
    "        # Get crawl delay if specified\n",
    "        crawl_delay = rp.crawl_delay(\"*\")\n",
    "        if crawl_delay:\n",
    "            print(f\"Recommended crawl delay: {crawl_delay} seconds\")\n",
    "        else:\n",
    "            print(\"No specific crawl delay specified\")\n",
    "            \n",
    "        return rp\n",
    "        \n",
    "    except Exception as e:\n",
    "        print(f\"Error checking robots.txt: {e}\")\n",
    "        return None\n",
    "\n",
    "# Check robots.txt for Cars24\n",
    "base_url = \"https://www.cars24.com\"\n",
    "robots_parser = check_robots_txt(base_url)\n"
   ]
  },
  {
   "cell_type": "code",
   "execution_count": 4,
   "id": "879c7f28",
   "metadata": {},
   "outputs": [
    {
     "name": "stdout",
     "output_type": "stream",
     "text": [
      "=== Website Connectivity Test ===\n",
      "✓ HTTP Status: 200\n",
      "✓ Content Length: 1241187 bytes\n",
      "✓ Content Type: text/html; charset=utf-8\n",
      "✓ Page Title: 436 Hyundai Used Cars in Mumbai | Second Hand Hyundai Cars in Mumbai starting from ₹0.89 lakh - CARS24\n",
      "✓ Successfully connected to Cars24 website\n"
     ]
    }
   ],
   "source": [
    "# Step 3: Basic HTTP Connectivity Test\n",
    "# Simple connectivity check without detailed exception handling\n",
    "\n",
    "# Create a session with proper headers\n",
    "session = requests.Session()\n",
    "session.headers.update({\n",
    "    'User-Agent': 'Mozilla/5.0 (Windows NT 10.0; Win64; x64) AppleWebKit/537.36 (KHTML, like Gecko) Chrome/91.0.4472.124 Safari/537.36'\n",
    "})\n",
    "\n",
    "# Make request\n",
    "response = session.get(\"https://www.cars24.com/buy-used-hyundai-cars-mumbai/?sort=bestmatch&serveWarrantyCount=true&listingSource=Homepage_Filters\", timeout=10)\n",
    "\n",
    "print(\"=== Website Connectivity Test ===\")\n",
    "print(f\"✓ HTTP Status: {response.status_code}\")\n",
    "print(f\"✓ Content Length: {len(response.content)} bytes\")\n",
    "print(f\"✓ Content Type: {response.headers.get('content-type', 'Unknown')}\")\n",
    "\n",
    "# Basic page validation\n",
    "soup = BeautifulSoup(response.content, 'html.parser')\n",
    "title = soup.find('title')\n",
    "if title:\n",
    "    print(f\"✓ Page Title: {title.get_text().strip()}\")\n",
    "\n",
    "print(\"✓ Successfully connected to Cars24 website\")\n"
   ]
  },
  {
   "cell_type": "code",
   "execution_count": 5,
   "id": "fdbf5149",
   "metadata": {},
   "outputs": [
    {
     "name": "stdout",
     "output_type": "stream",
     "text": [
      "Project directory 'cars24_hyundai_mumbai' created successfully.\n"
     ]
    }
   ],
   "source": [
    "# Step 4: Project Structure Setup\n",
    "\n",
    "project_dir = \"cars24_hyundai_mumbai\"              # name of the project folder\n",
    "if not os.path.exists(project_dir):                # Check if the directory already exists\n",
    "    os.makedirs(project_dir)                       # If not, create the directory\n",
    "    print(f\"Project directory '{project_dir}' created successfully.\")\n",
    "else:\n",
    "    print(f\"Project directory '{project_dir}' already exists.\")                # Printing a message if it already exists"
   ]
  },
  {
   "cell_type": "markdown",
   "id": "aa7d31dc",
   "metadata": {},
   "source": [
    "Part 2 – Website Declaration and Exception Handling"
   ]
  },
  {
   "cell_type": "code",
   "execution_count": 13,
   "id": "915a2743",
   "metadata": {},
   "outputs": [],
   "source": [
    "# Step 5: Exception Handling \n",
    "\n",
    "# Declaring the target website URL\n",
    "# Using the URL tested by Part 1 Team\n",
    "TARGET_URL = \"https://www.cars24.com/buy-used-hyundai-cars-mumbai/?sort=bestmatch&serveWarrantyCount=true&listingSource=Homepage_Filters\"\n",
    "\n",
    "# Necessary requests exceptions are imported for precise handling\n",
    "from requests.exceptions import Timeout, ConnectionError, HTTPError, RequestException\n",
    "import requests\n",
    "\n",
    "def get_robust_response(url: str, session: requests.Session, timeout_seconds: int = 15) -> requests.Response or None:\n",
    "    \"\"\"\n",
    "    Builds a robust function to send an HTTP GET request and handle common exceptions.\n",
    "\n",
    "    Args:\n",
    "        url (str): The target website URL.\n",
    "        session (requests.Session): The pre-configured requests session object.\n",
    "        timeout_seconds (int): The maximum time to wait for a response.\n",
    "\n",
    "    Returns:\n",
    "        requests.Response or None: The response object if successful (status 200), otherwise None.\n",
    "    \"\"\"\n",
    "    \n",
    "    #Using try-except blocks and print descriptive error messages\n",
    "    try:\n",
    "        print(f\"\\n--- Attempting to fetch: {url} ---\")\n",
    "        \n",
    "        # Make the request using the provided session and timeout\n",
    "        response = session.get(url, timeout=timeout_seconds)\n",
    "        \n",
    "        # Handle Invalid Responses (for status codes 4xx/5xx)\n",
    "        # This will raise an HTTPError for bad status codes\n",
    "        response.raise_for_status() \n",
    "        \n",
    "        print(f\" Success! Status Code: {response.status_code}. Content length: {len(response.content)} bytes.\")\n",
    "        return response\n",
    "\n",
    "    except Timeout:\n",
    "        # Handling Timeout errors\n",
    "        print(f\" ERROR: Request timed out after {timeout_seconds}s for URL: {url}.\")\n",
    "        print(\" Suggestion: Check network stability or increase the timeout limit.\")\n",
    "        return None\n",
    "    \n",
    "    except ConnectionError as e:\n",
    "        # Handling Connection errors\n",
    "        print(f\" ERROR: Connection error occurred for URL: {url}.\")\n",
    "        print(f\"   Details: {e.__class__.__name__} - Could not establish a connection (DNS failure, refusal, etc.).\")\n",
    "        return None\n",
    "        \n",
    "    except HTTPError as e:\n",
    "        # Handling Invalid Responses (4xx or 5xx status codes)\n",
    "        print(f\" ERROR: Invalid HTTP Response received for URL: {url}.\")\n",
    "        print(f\"   Details: {e.response.status_code} {e.response.reason} - The server rejected the request.\")\n",
    "        return None\n",
    "        \n",
    "    except RequestException as e:\n",
    "        # Catch-all for any other requests-related error\n",
    "        print(f\" ERROR: An unexpected RequestException occurred for URL: {url}.\")\n",
    "        print(f\"   Details: {e.__class__.__name__} - {e}\")\n",
    "        return None\n",
    "    \n",
    "    except Exception as e:\n",
    "        # Catch-all for any non-requests related error (e.g., programming error)\n",
    "        print(f\" FATAL ERROR: An unexpected error occurred.\")\n",
    "        print(f\"   Details: {e.__class__.__name__} - {e}\")\n",
    "        return None\n",
    "\n",
    "\n"
   ]
  },
  {
   "cell_type": "code",
   "execution_count": 14,
   "id": "0773577d",
   "metadata": {},
   "outputs": [
    {
     "name": "stdout",
     "output_type": "stream",
     "text": [
      "=== Part 2: Robust Function Testing ===\n",
      "\n",
      "[Test 1: Successful URL]\n",
      "\n",
      "--- Attempting to fetch: https://www.cars24.com/buy-used-hyundai-cars-mumbai/?sort=bestmatch&serveWarrantyCount=true&listingSource=Homepage_Filters ---\n",
      " Success! Status Code: 200. Content length: 1241376 bytes.\n",
      "Test 1 Result: Response object successfully returned.\n",
      "\n",
      "[Test 2: Invalid/404 URL]\n",
      "\n",
      "--- Attempting to fetch: https://www.cars24.com/this-path-does-not-exist-12345/ ---\n",
      " ERROR: Invalid HTTP Response received for URL: https://www.cars24.com/this-path-does-not-exist-12345/.\n",
      "   Details: 404 Not Found - The server rejected the request.\n",
      "Test 2 Result: Function correctly returned None after HTTPError.\n"
     ]
    }
   ],
   "source": [
    "# Part 2 Testing: Verifying the robust function\n",
    "\n",
    "print(\"=== Part 2: Robust Function Testing ===\")\n",
    "\n",
    "# Reuse the session created in Part 1/Step 3\n",
    "if 'session' not in locals():\n",
    "    session = requests.Session()\n",
    "    session.headers.update({\n",
    "        'User-Agent': 'Mozilla/5.0 (Windows NT 10.0; Win64; x64) AppleWebKit/537.36 (KHTML, like Gecko) Chrome/91.0.4472.124 Safari/537.36'\n",
    "    })\n",
    "\n",
    "# Test Case 1: Successful Connection (Expected)\n",
    "print(\"\\n[Test 1: Successful URL]\")\n",
    "response_success = get_robust_response(TARGET_URL, session)\n",
    "if response_success:\n",
    "    print(\"Test 1 Result: Response object successfully returned.\")\n",
    "\n",
    "# Test Case 2: 404 Not Found (Expected to fail gracefully)\n",
    "print(\"\\n[Test 2: Invalid/404 URL]\")\n",
    "response_404 = get_robust_response(\"https://www.cars24.com/this-path-does-not-exist-12345/\", session)\n",
    "if not response_404:\n",
    "    print(\"Test 2 Result: Function correctly returned None after HTTPError.\")"
   ]
  },
  {
   "cell_type": "code",
   "execution_count": 7,
   "id": "c23ec5f8",
   "metadata": {},
   "outputs": [],
   "source": [
    "# Step 6: Data Cleaning\n",
    "# To be completed by the next team members\n"
   ]
  },
  {
   "cell_type": "code",
   "execution_count": null,
   "id": "26896edb",
   "metadata": {},
   "outputs": [],
   "source": []
  },
  {
   "cell_type": "code",
   "execution_count": null,
   "id": "dfd0673b",
   "metadata": {},
   "outputs": [],
   "source": []
  }
 ],
 "metadata": {
  "kernelspec": {
   "display_name": "venv (3.10.11)",
   "language": "python",
   "name": "python3"
  },
  "language_info": {
   "codemirror_mode": {
    "name": "ipython",
    "version": 3
   },
   "file_extension": ".py",
   "mimetype": "text/x-python",
   "name": "python",
   "nbconvert_exporter": "python",
   "pygments_lexer": "ipython3",
   "version": "3.10.11"
  }
 },
 "nbformat": 4,
 "nbformat_minor": 5
}
