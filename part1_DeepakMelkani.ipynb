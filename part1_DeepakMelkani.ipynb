{
  "nbformat": 4,
  "nbformat_minor": 0,
  "metadata": {
    "colab": {
      "provenance": []
    },
    "kernelspec": {
      "name": "python3",
      "display_name": "Python 3"
    },
    "language_info": {
      "name": "python"
    }
  },
  "cells": [
    {
      "cell_type": "markdown",
      "source": [
        "\n",
        "# Part 1: Setup and Initialization\n",
        "# Team A Responsibilities:\n",
        "# 1. Import all necessary libraries\n",
        "# 2. Set up project structure in Jupyter notebook\n",
        "# 3. Create a clean HTTP request-response framework\n"
      ],
      "metadata": {
        "id": "rDqzP3bXktcd"
      }
    },
    {
      "cell_type": "code",
      "execution_count": 3,
      "metadata": {
        "colab": {
          "base_uri": "https://localhost:8080/"
        },
        "id": "gIGYJrDZkpc4",
        "outputId": "e0b9ac26-e456-4cbe-8fa2-681512aef897"
      },
      "outputs": [
        {
          "output_type": "stream",
          "name": "stdout",
          "text": [
            " Libraries imported successfully!\n"
          ]
        }
      ],
      "source": [
        "#Importing Libraries\n",
        "import requests\n",
        "from bs4 import BeautifulSoup\n",
        "import pandas as pd\n",
        "# Project Structure:\n",
        "# (can later add more code cells for extraction, cleaning, etc.)\n",
        "print(\" Libraries imported successfully!\")"
      ]
    },
    {
      "cell_type": "code",
      "source": [
        "# Target URL (Hyundai used cars in Mumbai)\n",
        "url = \"https://www.cars24.com/buy-used-hyundai-cars-mumbai/?sort=bestmatch&serveWarrantyCount=true&listingSource=Homepage_Filters\"\n",
        "\n",
        "# 🔗 Creating HTTP Request\n",
        "try:\n",
        "    response = requests.get(url, headers={\"User-Agent\": \"Mozilla/5.0\"})\n",
        "\n",
        "    # 🧾 Check status\n",
        "    if response.status_code == 200:\n",
        "        print(\" Connection Successful! Status Code:\", response.status_code)\n",
        "    else:\n",
        "        print(\"Received unexpected status code:\", response.status_code)\n",
        "\n",
        "except Exception as e:\n",
        "    print(\"Error occurred while making HTTP request:\", e)"
      ],
      "metadata": {
        "colab": {
          "base_uri": "https://localhost:8080/"
        },
        "id": "hhymFCnGlHtH",
        "outputId": "5a98fb64-0c74-4f17-d8eb-0234704db12d"
      },
      "execution_count": 4,
      "outputs": [
        {
          "output_type": "stream",
          "name": "stdout",
          "text": [
            " Connection Successful! Status Code: 200\n"
          ]
        }
      ]
    },
    {
      "cell_type": "code",
      "source": [
        "# Verify page content\n",
        "print(\" Sample page content (first 500 characters):\\n\")\n",
        "print(response.text[:500])  # Displaying first few characters to verify response"
      ],
      "metadata": {
        "colab": {
          "base_uri": "https://localhost:8080/"
        },
        "id": "C6rvuWEClfS7",
        "outputId": "a782db3b-6d33-4aa8-9c78-0b8af1ca1c59"
      },
      "execution_count": 5,
      "outputs": [
        {
          "output_type": "stream",
          "name": "stdout",
          "text": [
            " Sample page content (first 500 characters):\n",
            "\n",
            "<!DOCTYPE html><html lang=\"en\"><head><meta charSet=\"utf-8\"/><meta name=\"viewport\" content=\"width=device-width, initial-scale=1, maximum-scale=5, user-scalable=yes\"/><link rel=\"stylesheet\" href=\"https://assets.cars24.com/production/catalog-web-in/251015135752/_next/static/css/6a0762bd8c7f2480.css\" data-precedence=\"next\"/><link rel=\"stylesheet\" href=\"https://assets.cars24.com/production/catalog-web-in/251015135752/_next/static/css/e435aa6d9a1f0b9e.css\" data-precedence=\"next\"/><link rel=\"stylesheet\n"
          ]
        }
      ]
    },
    {
      "cell_type": "markdown",
      "source": [
        "# Part 2: Website Declaration and Exception Handling\n",
        "# Team B Responsibilities:\n",
        "# 1. Declare the website (Hyundai used cars page)\n",
        "# 2. Build robust function for HTTP requests\n",
        "# 3. Handle exceptions (Timeout, ConnectionError, Invalid Response)"
      ],
      "metadata": {
        "id": "HdfRUlfamF3l"
      }
    }
  ]
}